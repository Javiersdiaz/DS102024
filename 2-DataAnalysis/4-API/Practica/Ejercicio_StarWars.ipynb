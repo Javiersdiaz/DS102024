{
 "cells": [
  {
   "cell_type": "markdown",
   "metadata": {},
   "source": [
    "# Construcción de un DataFrame Completo con SWAPI\n",
    "## Ejercicio - API REST y Pandas\n",
    "Este notebook muestra cómo se obtiene información detallada de los personajes de la saga Star Wars usando la API de SWAPI, y cómo se procesa para construir un DataFrame en Pandas.\n"
   ]
  },
  {
   "cell_type": "markdown",
   "metadata": {},
   "source": [
    "## Descripción del proceso\n",
    "\n",
    "El objetivo principal es construir un **DataFrame** que contenga información sobre los personajes de Star Wars, utilizando la API de SWAPI.\n",
    "\n",
    "### Pasos:\n",
    "\n",
    "1. **Obtención de datos de personajes:**\n",
    "   - Se utiliza la API de SWAPI para obtener información paginada sobre los personajes.\n",
    "\n",
    "2. **Procesamiento de datos relacionados:**\n",
    "   - Los campos como `homeworld`, `species`, y `films` contienen URLs que requieren peticiones adicionales para obtener sus valores descriptivos (nombres de planetas, especies, títulos de películas).\n",
    "\n",
    "3. **Construcción del DataFrame:**\n",
    "   - Se procesan los datos obtenidos y se almacenan en un DataFrame con las siguientes columnas:\n",
    "     - `id`, `name`, `height`, `mass`, `hair_color`, `skin_color`, `eye_color`, `birth_year`, `gender`, `homeworld`, `species`, y `films`.\n",
    "\n",
    "4. **Manejo de errores y datos faltantes:**\n",
    "   - Se implementan controles para evitar que errores en la API o datos faltantes interrumpan el flujo del programa.\n",
    "   - Se asignan valores predeterminados como `\"Unknown\"` o listas vacías para campos no disponibles.\n",
    "\n",
    "5. **Exportación del DataFrame:**\n",
    "   - El DataFrame resultante se guarda como un archivo `.csv` para análisis posteriores.\n"
   ]
  },
  {
   "cell_type": "code",
   "execution_count": 1,
   "metadata": {},
   "outputs": [],
   "source": [
    "import requests\n",
    "import pandas as pd\n",
    "import time\n",
    "\n",
    "# URL base de la API\n",
    "BASE_URL = \"https://swapi.dev/api/people/\"\n",
    "\n",
    "# Lista para almacenar los datos procesados\n",
    "all_characters = []\n",
    "\n",
    "# Función para obtener datos de todas las páginas\n",
    "def fetch_all_characters(base_url):\n",
    "    url = base_url\n",
    "    while url:\n",
    "        try:\n",
    "            response = requests.get(url)\n",
    "            response.raise_for_status()  # Verifica si hay errores en la respuesta\n",
    "            data = response.json()\n",
    "            all_characters.extend(data['results'])  # Agrega los resultados actuales\n",
    "            url = data['next']  # Obtiene la siguiente página\n",
    "            time.sleep(0.5)  # Espera para evitar sobrecargar la API\n",
    "        except requests.exceptions.RequestException as e:\n",
    "            print(f\"Error al obtener los datos: {e}\")\n",
    "            break\n",
    "\n",
    "# Llamar a la función para obtener todos los personajes\n",
    "fetch_all_characters(BASE_URL)"
   ]
  },
  {
   "cell_type": "code",
   "execution_count": 2,
   "metadata": {},
   "outputs": [],
   "source": [
    "def get_name_from_url(url, field=\"name\"):\n",
    "    if not url:\n",
    "        return None\n",
    "    try:\n",
    "        response = requests.get(url)\n",
    "        response.raise_for_status()\n",
    "        return response.json().get(field)  # Devuelve el valor del campo solicitado\n",
    "    except requests.exceptions.RequestException:\n",
    "        return None\n",
    "\n",
    "# Función para obtener una lista de nombres desde una lista de URLs\n",
    "def get_names_from_urls(urls, field=\"title\"):\n",
    "    names = []\n",
    "    for url in urls:\n",
    "        name = get_name_from_url(url, field)\n",
    "        if name:\n",
    "            names.append(name)\n",
    "        time.sleep(0.5)  # Controla el número de solicitudes\n",
    "    return names"
   ]
  },
  {
   "cell_type": "code",
   "execution_count": 3,
   "metadata": {},
   "outputs": [],
   "source": [
    "# Procesar los datos para crear el DataFrame\n",
    "processed_data = []\n",
    "for i, character in enumerate(all_characters, start=1):\n",
    "    # Manejar errores y campos faltantes\n",
    "    homeworld_name = get_name_from_url(character.get(\"homeworld\"), field=\"name\")\n",
    "    species_name = get_name_from_url(character[\"species\"][0], field=\"name\") if character[\"species\"] else \"Human\"\n",
    "    films_titles = get_names_from_urls(character.get(\"films\", []), field=\"title\")\n",
    "    \n",
    "    # Agregar los datos procesados a la lista\n",
    "    processed_data.append({\n",
    "        \"id\": i,\n",
    "        \"name\": character.get(\"name\", \"Unknown\"),  # Valor predeterminado si falta\n",
    "        \"height\": character.get(\"height\", \"Unknown\"),\n",
    "        \"mass\": character.get(\"mass\", \"Unknown\"),\n",
    "        \"hair_color\": character.get(\"hair_color\", \"Unknown\"),\n",
    "        \"skin_color\": character.get(\"skin_color\", \"Unknown\"),\n",
    "        \"eye_color\": character.get(\"eye_color\", \"Unknown\"),\n",
    "        \"birth_year\": character.get(\"birth_year\", \"Unknown\"),\n",
    "        \"gender\": character.get(\"gender\", \"Unknown\"),\n",
    "        \"homeworld\": homeworld_name if homeworld_name else \"Unknown\",\n",
    "        \"species\": species_name,\n",
    "        \"films\": films_titles if films_titles else []\n",
    "    })"
   ]
  },
  {
   "cell_type": "code",
   "execution_count": 4,
   "metadata": {},
   "outputs": [
    {
     "name": "stdout",
     "output_type": "stream",
     "text": [
      "   id            name height mass hair_color   skin_color eye_color  \\\n",
      "0   1  Luke Skywalker    172   77      blond         fair      blue   \n",
      "1   2           C-3PO    167   75        n/a         gold    yellow   \n",
      "2   3           R2-D2     96   32        n/a  white, blue       red   \n",
      "3   4     Darth Vader    202  136       none        white    yellow   \n",
      "4   5     Leia Organa    150   49      brown        light     brown   \n",
      "\n",
      "  birth_year  gender homeworld species  \\\n",
      "0      19BBY    male  Tatooine   Human   \n",
      "1     112BBY     n/a  Tatooine   Droid   \n",
      "2      33BBY     n/a     Naboo   Droid   \n",
      "3    41.9BBY    male  Tatooine   Human   \n",
      "4      19BBY  female  Alderaan   Human   \n",
      "\n",
      "                                               films  \n",
      "0  [A New Hope, The Empire Strikes Back, Return o...  \n",
      "1  [A New Hope, The Empire Strikes Back, Return o...  \n",
      "2  [A New Hope, The Empire Strikes Back, Return o...  \n",
      "3  [A New Hope, The Empire Strikes Back, Return o...  \n",
      "4  [A New Hope, The Empire Strikes Back, Return o...  \n"
     ]
    }
   ],
   "source": [
    "# Crear el DataFrame\n",
    "df = pd.DataFrame(processed_data)\n",
    "\n",
    "# Mostrar las primeras filas del DataFrame\n",
    "print(df.head())\n",
    "\n",
    "# Guardar el DataFrame como un archivo CSV\n",
    "df.to_csv(\"star_wars_characters_detailed.csv\", index=False)"
   ]
  },
  {
   "cell_type": "code",
   "execution_count": null,
   "metadata": {},
   "outputs": [],
   "source": []
  }
 ],
 "metadata": {
  "kernelspec": {
   "display_name": "bootcamp-ds-6v7GiuDz-py3.10",
   "language": "python",
   "name": "python3"
  },
  "language_info": {
   "codemirror_mode": {
    "name": "ipython",
    "version": 3
   },
   "file_extension": ".py",
   "mimetype": "text/x-python",
   "name": "python",
   "nbconvert_exporter": "python",
   "pygments_lexer": "ipython3",
   "version": "3.10.11"
  }
 },
 "nbformat": 4,
 "nbformat_minor": 2
}
