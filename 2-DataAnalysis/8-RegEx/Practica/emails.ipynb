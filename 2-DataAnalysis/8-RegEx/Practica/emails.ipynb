{
 "cells": [
  {
   "cell_type": "code",
   "execution_count": 1,
   "metadata": {},
   "outputs": [],
   "source": [
    "import re\n",
    "\n",
    "emails = '''\n",
    "loquesea@\n",
    "juanmaniglia@thebridgeschool.tech\n",
    "juan.maniglia@uc3m.es\n",
    "juan-12-1993@mi-correo.net\n",
    "'''"
   ]
  },
  {
   "cell_type": "code",
   "execution_count": 2,
   "metadata": {},
   "outputs": [
    {
     "name": "stdout",
     "output_type": "stream",
     "text": [
      "<re.Match object; span=(49, 70), match='@thebridgeschool.tech'>\n",
      "<re.Match object; span=(81, 89), match='@uc3m.es'>\n",
      "<re.Match object; span=(98, 112), match='@mi-correo.net'>\n"
     ]
    }
   ],
   "source": [
    "texto = \"\"\"\n",
    "\n",
    "miemail@thebridgeschool.tech, otroemail@uc3m.es, alguien@mi-correo.net\n",
    "\"\"\"\n",
    "\n",
    "# Expresión regular para capturar los dominios que empiezan con @\n",
    "patron = r'@[a-zA-Z0-9.-]+\\.[a-zA-Z]{2,}'\n",
    "\n",
    "# Buscar las coincidencias\n",
    "coincidencias = re.finditer(patron, texto)\n",
    "\n",
    "# Imprimir las coincidencias en el formato solicitado\n",
    "for match in coincidencias:\n",
    "    print(match)\n"
   ]
  },
  {
   "cell_type": "code",
   "execution_count": 3,
   "metadata": {},
   "outputs": [
    {
     "name": "stdout",
     "output_type": "stream",
     "text": [
      "<re.Match object; span=(21, 42), match='@thebridgeschool.tech'>\n",
      "<re.Match object; span=(59, 67), match='@uc3m.es'>\n",
      "<re.Match object; span=(89, 103), match='@mi-correo.net'>\n"
     ]
    }
   ],
   "source": [
    "import re\n",
    "\n",
    "texto = \"\"\"\n",
    "Esto es un ejemplo: @thebridgeschool.tech, más texto aquí @uc3m.es, y más texto todavía @mi-correo.net\n",
    "\"\"\"\n",
    "\n",
    "# Expresión regular para capturar los dominios que empiezan con @\n",
    "patron = r'@[a-zA-Z0-9.-]+\\.[a-zA-Z]{2,}'\n",
    "\n",
    "# Buscar las coincidencias\n",
    "coincidencias = re.finditer(patron, texto)\n",
    "\n",
    "# Imprimir las coincidencias en el formato solicitado\n",
    "for match in coincidencias:\n",
    "    print(match)\n"
   ]
  },
  {
   "cell_type": "code",
   "execution_count": null,
   "metadata": {},
   "outputs": [],
   "source": []
  }
 ],
 "metadata": {
  "kernelspec": {
   "display_name": "bootcamp-ds-6v7GiuDz-py3.10",
   "language": "python",
   "name": "python3"
  },
  "language_info": {
   "codemirror_mode": {
    "name": "ipython",
    "version": 3
   },
   "file_extension": ".py",
   "mimetype": "text/x-python",
   "name": "python",
   "nbconvert_exporter": "python",
   "pygments_lexer": "ipython3",
   "version": "3.10.11"
  },
  "orig_nbformat": 4
 },
 "nbformat": 4,
 "nbformat_minor": 2
}
