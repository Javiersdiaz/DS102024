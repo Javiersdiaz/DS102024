{
 "cells": [
  {
   "cell_type": "markdown",
   "metadata": {},
   "source": [
    "# Ejercicio Scraping\n",
    "\n",
    "Descargar letras de canciones\n",
    "\n",
    "Utilizando beautiful soup descargar todas las canciones de [Lasso](https://es.wikipedia.org/wiki/Lasso_(cantante)) que hay en [letras.com](https://www.letras.com/lasso/)"
   ]
  },
  {
   "cell_type": "code",
   "execution_count": 3,
   "metadata": {},
   "outputs": [],
   "source": [
    "from bs4 import BeautifulSoup\n",
    "import requests\n",
    "import os\n",
    "\n",
    "letras_url = \"https://www.letras.com\"\n",
    "\n",
    "def descargar_letras(artista):\n",
    "    # COMPLETAR\n",
    "    return\n",
    "        \n",
    "artista = \"lasso\"\n",
    "descargar_letras(artista)"
   ]
  },
  {
   "cell_type": "code",
   "execution_count": 1,
   "metadata": {},
   "outputs": [
    {
     "name": "stdout",
     "output_type": "stream",
     "text": [
      "No se encontraron canciones para este artista.\n"
     ]
    }
   ],
   "source": [
    "from bs4 import BeautifulSoup\n",
    "import requests\n",
    "import os\n",
    "\n",
    "letras_url = \"https://www.letras.com\"\n",
    "\n",
    "# Función para descargar letras de canciones de un artista\n",
    "def descargar_letras(artista):\n",
    "    # Construir URL del artista\n",
    "    artista_url = f\"{letras_url}/{artista}/\"\n",
    "    \n",
    "    # Obtener la página del artista\n",
    "    response = requests.get(artista_url)\n",
    "    if response.status_code != 200:\n",
    "        print(f\"Error al acceder a {artista_url}\")\n",
    "        return\n",
    "\n",
    "    soup = BeautifulSoup(response.content, 'html.parser')\n",
    "    \n",
    "    # Obtener enlaces de canciones\n",
    "    canciones = soup.select(\".cnt-list-row a\")\n",
    "    if not canciones:\n",
    "        print(\"No se encontraron canciones para este artista.\")\n",
    "        return\n",
    "\n",
    "    # Crear carpeta para guardar las letras\n",
    "    if not os.path.exists(artista):\n",
    "        os.makedirs(artista)\n",
    "\n",
    "    # Recorrer cada canción y descargar la letra\n",
    "    for cancion in canciones:\n",
    "        titulo = cancion.text.strip()\n",
    "        enlace = letras_url + cancion['href']\n",
    "\n",
    "        # Obtener la página de la canción\n",
    "        cancion_response = requests.get(enlace)\n",
    "        if cancion_response.status_code != 200:\n",
    "            print(f\"Error al acceder a la canción {titulo}\")\n",
    "            continue\n",
    "\n",
    "        cancion_soup = BeautifulSoup(cancion_response.content, 'html.parser')\n",
    "        letra_tag = cancion_soup.find(\"div\", class_=\"cnt-letra\")\n",
    "        \n",
    "        if letra_tag:\n",
    "            letra = letra_tag.text.strip()\n",
    "            \n",
    "            # Guardar letra en un archivo\n",
    "            with open(f\"{artista}/{titulo}.txt\", \"w\", encoding=\"utf-8\") as f:\n",
    "                f.write(letra)\n",
    "            print(f\"Letra descargada: {titulo}\")\n",
    "        else:\n",
    "            print(f\"No se encontró la letra para {titulo}\")\n",
    "\n",
    "artista = \"lasso\"\n",
    "descargar_letras(artista)\n"
   ]
  },
  {
   "cell_type": "code",
   "execution_count": null,
   "metadata": {},
   "outputs": [],
   "source": []
  }
 ],
 "metadata": {
  "instance_type": "ml.t3.medium",
  "kernelspec": {
   "display_name": "bootcamp-ds-6v7GiuDz-py3.10",
   "language": "python",
   "name": "python3"
  },
  "language_info": {
   "codemirror_mode": {
    "name": "ipython",
    "version": 3
   },
   "file_extension": ".py",
   "mimetype": "text/x-python",
   "name": "python",
   "nbconvert_exporter": "python",
   "pygments_lexer": "ipython3",
   "version": "3.10.11"
  }
 },
 "nbformat": 4,
 "nbformat_minor": 4
}
