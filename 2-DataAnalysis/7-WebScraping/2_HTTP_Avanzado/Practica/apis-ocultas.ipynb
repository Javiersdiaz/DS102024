{
 "cells": [
  {
   "cell_type": "markdown",
   "metadata": {},
   "source": [
    "# Ejercicios APIs Ocultas"
   ]
  },
  {
   "cell_type": "markdown",
   "metadata": {},
   "source": [
    "# Idealista\n",
    "\n",
    "Elegir un departamento en Madrid que les guste desde [este link](https://www.idealista.com/venta-viviendas/madrid/carabanchel/pau-de-carabanchel/) y descargar sus datos utilizando la API oculta de idealista.\n"
   ]
  },
  {
   "cell_type": "code",
   "execution_count": 4,
   "metadata": {},
   "outputs": [
    {
     "name": "stdout",
     "output_type": "stream",
     "text": [
      "Error al realizar la solicitud: 403\n",
      "<html lang=\"es\"><head><title>idealista.com</title><style>#cmsg{animation: A 1.5s;}@keyframes A{0%{opacity:0;}99%{opacity:0;}100%{opacity:1;}}</style></head><body style=\"margin:0\"><p id=\"cmsg\">Please enable JS and disable any ad blocker</p><script data-cfasync=\"false\">var dd={'rt':'c','cid':'AHrlqAAAAAMA5OoN72bAgUcAvBrROA==','hsh':'AC81AADC3279CA4C7B968B717FBB30','t':'bv','s':17156,'e':'ca1e55582672399939fbb1425e46218456f4ab08e6c00c5f78d3114498ce49e6','host':'geo.captcha-delivery.com','cookie':'U0o2JJAEEj2iTTRX0f_eiRJQLKWUgS3ulnpNKRwv~7Q_MFCWnSmRFvFVe5rrfxM4CLGM6IgTQlMhJAKyuyPHzKj_lgrep3a1DYfbB4uCnEReV38QRsTj0Y5QjzXS8oFx'}</script><script data-cfasync=\"false\" src=\"https://ct.captcha-delivery.com/c.js\"></script></body></html>\n"
     ]
    }
   ],
   "source": [
    "import requests\n",
    "import json\n",
    "\n",
    "url = \"https://www.idealista.com/venta-viviendas/madrid/carabanchel/pau-de-carabanchel/\"  \n",
    "\n",
    "\n",
    "\n",
    "\n",
    "# Parámetros para buscar departamentos en el área de interés\n",
    "params = {\n",
    "    \"operation\": \"sale\",\n",
    "    \"propertyType\": \"homes\",\n",
    "    \"center\": \"40.3772,-3.7651\",  # Coordenadas aproximadas de Carabanchel\n",
    "    \"distance\": \"3000\",          # Distancia en metros\n",
    "    \"numPage\": \"1\",\n",
    "    \"maxItems\": \"20\"\n",
    "}\n",
    "\n",
    "# Realiza la solicitud\n",
    "response = requests.get(url, params=params)\n",
    "\n",
    "# Verifica si la solicitud fue exitosa\n",
    "if response.status_code == 200:\n",
    "    data = response.json()  # Extrae la respuesta en formato JSON\n",
    "    # Guarda los datos en un archivo para su análisis\n",
    "    with open(\"departamentos_carabanchel.json\", \"w\") as file:\n",
    "        json.dump(data, file, indent=4)\n",
    "    print(\"Datos descargados exitosamente.\")\n",
    "else:\n",
    "    print(f\"Error al realizar la solicitud: {response.status_code}\")\n",
    "    print(response.text)\n"
   ]
  },
  {
   "cell_type": "code",
   "execution_count": null,
   "metadata": {},
   "outputs": [],
   "source": []
  }
 ],
 "metadata": {
  "kernelspec": {
   "display_name": "bootcamp-ds-6v7GiuDz-py3.10",
   "language": "python",
   "name": "python3"
  },
  "language_info": {
   "codemirror_mode": {
    "name": "ipython",
    "version": 3
   },
   "file_extension": ".py",
   "mimetype": "text/x-python",
   "name": "python",
   "nbconvert_exporter": "python",
   "pygments_lexer": "ipython3",
   "version": "3.10.11"
  }
 },
 "nbformat": 4,
 "nbformat_minor": 4
}
