{
 "cells": [
  {
   "cell_type": "markdown",
   "metadata": {},
   "source": [
    "## Ejercicio 1: Filtrado Colaborativo Basado en Ítems\n",
    "\n",
    "Implementa un sistema de recomendación basado en ítems utilizando la matriz de calificaciones proporcionada en el ejemplo práctico 1. Recomendale al Usuario 'B' dos productos que aún no ha calificado."
   ]
  },
  {
   "cell_type": "markdown",
   "metadata": {},
   "source": [
    "## Ejercicio 2: Evaluación de Métricas\n",
    "Dada la siguiente matriz de calificaciones reales y predichas para un conjunto de usuarios y productos, calcula el RMSE y el MAE.\n",
    "\n",
    "|Usuario|\tProducto1 (Real)|\tProducto1 (Pred)|\tProducto2 (Real)|\tProducto2 (Pred)|\n",
    "|---|---|---|---|---|\n",
    "|A|\t5|\t4.5|\t3|\t3.5|\n",
    "|B|\t2|\t2.0|\t4|\t3.8|\n",
    "|C|\t0|\t1.2|\t5|\t4.9|\n",
    "|D|\t3|\t3.5|\t0|\t0.2|"
   ]
  },
  {
   "cell_type": "markdown",
   "metadata": {},
   "source": [
    "### Ejercicio 3: Filtrado Basado en Contenido Avanzado\n",
    "Ampliando el ejemplo práctico 2, incluye una nueva columna que clasifique los productos en categorías (por ejemplo, 'Electrónica', 'Cocina', 'Literatura', 'Moda', 'Juguetes'). Utiliza esta información para mejorar el sistema de recomendación basado en contenido, de manera que solo recomiende productos de la misma categoría que el producto objetivo."
   ]
  },
  {
   "cell_type": "code",
   "execution_count": 2,
   "metadata": {},
   "outputs": [
    {
     "name": "stdout",
     "output_type": "stream",
     "text": [
      "Productos recomendados para el Usuario B: []\n",
      "RMSE: 0.534\n",
      "MAE: 0.400\n"
     ]
    }
   ],
   "source": [
    "import numpy as np\n",
    "from sklearn.metrics.pairwise import cosine_similarity\n",
    "\n",
    "# Matriz de calificaciones (filas: usuarios, columnas: productos)\n",
    "ratings = np.array([\n",
    "    [5, 3],  # Usuario A\n",
    "    [2, 4],  # Usuario B\n",
    "    [0, 5],  # Usuario C\n",
    "    [3, 0]   # Usuario D\n",
    "])\n",
    "\n",
    "# Calcular similitud de coseno entre productos\n",
    "similaridad_items = cosine_similarity(ratings.T)\n",
    "\n",
    "# Identificar productos no calificados por el Usuario B\n",
    "usuario_b = 1  # Índice del usuario B\n",
    "productos_no_calificados = np.where(ratings[usuario_b] == 0)[0]\n",
    "\n",
    "# Predecir calificaciones para productos no calificados\n",
    "predicciones = {}\n",
    "for producto in productos_no_calificados:\n",
    "    # Considerar solo productos que el usuario ha calificado\n",
    "    productos_calificados = np.where(ratings[usuario_b] > 0)[0]\n",
    "    similitudes = similaridad_items[producto, productos_calificados]\n",
    "    calificaciones = ratings[usuario_b, productos_calificados]\n",
    "    \n",
    "    if np.sum(similitudes) > 0:\n",
    "        predicciones[producto] = np.dot(similitudes, calificaciones) / np.sum(similitudes)\n",
    "    else:\n",
    "        predicciones[producto] = 0  # Si no hay similitudes, asignar 0\n",
    "\n",
    "# Recomendar los dos productos con mayor predicción\n",
    "recomendaciones = sorted(predicciones, key=predicciones.get, reverse=True)[:2]\n",
    "\n",
    "print(f\"Productos recomendados para el Usuario B: {recomendaciones}\")\n",
    "\n",
    "# Cálculo de RMSE y MAE\n",
    "reales = np.array([\n",
    "    [5, 3],  # Usuario A\n",
    "    [2, 4],  # Usuario B\n",
    "    [0, 5],  # Usuario C\n",
    "    [3, 0]   # Usuario D\n",
    "])\n",
    "\n",
    "predichos = np.array([\n",
    "    [4.5, 3.5],  # Usuario A\n",
    "    [2.0, 3.8],  # Usuario B\n",
    "    [1.2, 4.9],  # Usuario C\n",
    "    [3.5, 0.2]   # Usuario D\n",
    "])\n",
    "\n",
    "rmse = np.sqrt(np.mean((reales - predichos) ** 2))\n",
    "mae = np.mean(np.abs(reales - predichos))\n",
    "\n",
    "print(f\"RMSE: {rmse:.3f}\")\n",
    "print(f\"MAE: {mae:.3f}\")\n"
   ]
  }
 ],
 "metadata": {
  "kernelspec": {
   "display_name": ".venv",
   "language": "python",
   "name": "python3"
  },
  "language_info": {
   "codemirror_mode": {
    "name": "ipython",
    "version": 3
   },
   "file_extension": ".py",
   "mimetype": "text/x-python",
   "name": "python",
   "nbconvert_exporter": "python",
   "pygments_lexer": "ipython3",
   "version": "3.10.11"
  }
 },
 "nbformat": 4,
 "nbformat_minor": 2
}
